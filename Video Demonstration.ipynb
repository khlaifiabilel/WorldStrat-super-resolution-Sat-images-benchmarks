{
 "cells": [
  {
   "cell_type": "markdown",
   "metadata": {},
   "source": [
    "# Video demonstrations of super-resolution\n",
    "\n",
    "A great way to demonstrate the difference between the input low-resolution images and the super-resolved output images  \n",
    "is to visually compare them through a video.\n",
    "\n",
    "This notebook provides a way to do so, with several comparison scenarios already implemented.\n",
    "NOTE: You need to have FFMPEG installed and accessible through the command prompt/console (ffmpeg command).\n",
    "\n",
    "## Loading the images\n",
    "\n",
    "First you need to provide a folder with low-resolution images and the super-resolved output image.  \n",
    "The images should share a common prefix, e.g. LR-Image-1, LR-Image-2 for the low-res images, and SR-Output.\n",
    "\n",
    "The folder path, along with these prefixes is passed into the `Video` class constructor which automatically loads the images.  \n",
    "\n",
    "## Generating video comparisons\n",
    "\n",
    "The `Video` class offers three different comparison scenarios:\n",
    "- A single revisit comparison video (between the first revisit and the super resolved image).\n",
    "- A comparison between vertically merged low resolution images and the super resolved image.\n",
    "- A comparison between horizontally merged low resolution images and the super resolved image.\n",
    "\n",
    "All of the scenarios have built in transitions showcasing all of the low-resolution images.  \n",
    "If an annotation mask highlighting key image areas is provided, the images are also annotated with the mask.\n",
    "\n",
    "The three scenarios are saved to three files in the output_path:\n",
    "- single_revisit_comparison.mp4\n",
    "- merged_vertical_comparison.mp4\n",
    "- merged_horizontal_comparison.mp4\n",
    "\n",
    "## Zooming into images\n",
    "\n",
    "If the images are of high resolution, you can zoom into any part of the image using the `Video` class, and you can easily  \n",
    "switch back and forth between the zoomed-out full resolution and the zoomed-in preview using the following methods:\n",
    "\n",
    "- `generate_zoom_into_group`\n",
    "- `zoom_into`\n",
    "- `zoom_out`\n"
   ]
  },
  {
   "cell_type": "markdown",
   "metadata": {},
   "source": [
    "# Demo video\n",
    "\n",
    "Let's generate a demo video that showcases the three different scenarios, along with the zoom-in capabilities."
   ]
  },
  {
   "cell_type": "markdown",
   "metadata": {},
   "source": [
    "### Default scenarios without zooming in"
   ]
  },
  {
   "cell_type": "code",
   "execution_count": 3,
   "metadata": {},
   "outputs": [
    {
     "data": {
      "application/vnd.jupyter.widget-view+json": {
       "model_id": "25d477a84bbb45658f71d4acb1ccbd25",
       "version_major": 2,
       "version_minor": 0
      },
      "text/plain": [
       "Converting frames to OpenCV:   0%|          | 0/1004 [00:00<?, ?it/s]"
      ]
     },
     "metadata": {},
     "output_type": "display_data"
    },
    {
     "data": {
      "application/vnd.jupyter.widget-view+json": {
       "model_id": "3c294821aced428f83c7da828822ff13",
       "version_major": 2,
       "version_minor": 0
      },
      "text/plain": [
       "Writing frames to data\\visualisations\\videos\\single_revisit_comparison.mp4:   0%|          | 0/1004 [00:00<?, …"
      ]
     },
     "metadata": {},
     "output_type": "display_data"
    },
    {
     "data": {
      "application/vnd.jupyter.widget-view+json": {
       "model_id": "06472b97bf444cef9724fcb1ad14e966",
       "version_major": 2,
       "version_minor": 0
      },
      "text/plain": [
       "Converting frames to OpenCV:   0%|          | 0/1195 [00:00<?, ?it/s]"
      ]
     },
     "metadata": {},
     "output_type": "display_data"
    },
    {
     "data": {
      "application/vnd.jupyter.widget-view+json": {
       "model_id": "11c760eb7c5a44328673724a4914f1ff",
       "version_major": 2,
       "version_minor": 0
      },
      "text/plain": [
       "Writing frames to data\\visualisations\\videos\\merged_vertical_comparison.mp4:   0%|          | 0/1195 [00:00<?,…"
      ]
     },
     "metadata": {},
     "output_type": "display_data"
    },
    {
     "data": {
      "application/vnd.jupyter.widget-view+json": {
       "model_id": "7bb9df636f1d4a8ba4d849caa20bc205",
       "version_major": 2,
       "version_minor": 0
      },
      "text/plain": [
       "Converting frames to OpenCV:   0%|          | 0/1195 [00:00<?, ?it/s]"
      ]
     },
     "metadata": {},
     "output_type": "display_data"
    },
    {
     "data": {
      "application/vnd.jupyter.widget-view+json": {
       "model_id": "dcbd513245cd4991b668467bd4c3e2e7",
       "version_major": 2,
       "version_minor": 0
      },
      "text/plain": [
       "Writing frames to data\\visualisations\\videos\\merged_horizontal_comparison.mp4:   0%|          | 0/1195 [00:00<…"
      ]
     },
     "metadata": {},
     "output_type": "display_data"
    },
    {
     "data": {
      "application/vnd.jupyter.widget-view+json": {
       "model_id": "c032a39dd39e4d0197316f7fd2fad217",
       "version_major": 2,
       "version_minor": 0
      },
      "text/plain": [
       "Converting frames to OpenCV:   0%|          | 0/1386 [00:00<?, ?it/s]"
      ]
     },
     "metadata": {},
     "output_type": "display_data"
    },
    {
     "data": {
      "application/vnd.jupyter.widget-view+json": {
       "model_id": "a21ada52b7914c2d98b4572e445d8b12",
       "version_major": 2,
       "version_minor": 0
      },
      "text/plain": [
       "Writing frames to data\\visualisations\\videos\\test_scenario.mp4:   0%|          | 0/1386 [00:00<?, ?it/s]"
      ]
     },
     "metadata": {},
     "output_type": "display_data"
    }
   ],
   "source": [
    "%load_ext autoreload\n",
    "%autoreload 2\n",
    "from video_demonstrations.Video import Video\n",
    "from video_demonstrations.Scenarios import Scenario\n",
    "\n",
    "\n",
    "root_path = \"video_demonstrations/test_data/\"\n",
    "video = Video(root_path, sr_prefix='SR', lr_prefix='L', watermark_logo_path='video_demonstrations/whyhow logo.png')\n",
    "video.generate_zoom_into_group(600, 600)\n",
    "frames = []\n",
    "frames += Scenario.generate_default_scenarios(video)\n",
    "video.frames = frames\n",
    "video.save_frames_to_video(video_path='test_scenario.mp4', fps=60)\n"
   ]
  },
  {
   "cell_type": "markdown",
   "metadata": {},
   "source": [
    "### Convert the videos for Jupyter preview\n",
    "You will need FFmpeg installed and added to PATH.  \n",
    "[You can download FFmpeg here.](https://ffmpeg.org/download.html)\n",
    "\n",
    "\n",
    "Converting the videos can take a minute."
   ]
  },
  {
   "cell_type": "code",
   "execution_count": 4,
   "metadata": {},
   "outputs": [
    {
     "name": "stderr",
     "output_type": "stream",
     "text": [
      "ffmpeg version 2023-05-04-git-4006c71d19-essentials_build-www.gyan.dev Copyright (c) 2000-2023 the FFmpeg developers\n",
      "  built with gcc 12.2.0 (Rev10, Built by MSYS2 project)\n",
      "  configuration: --enable-gpl --enable-version3 --enable-static --disable-w32threads --disable-autodetect --enable-fontconfig --enable-iconv --enable-gnutls --enable-libxml2 --enable-gmp --enable-bzlib --enable-lzma --enable-zlib --enable-libsrt --enable-libssh --enable-libzmq --enable-avisynth --enable-sdl2 --enable-libwebp --enable-libx264 --enable-libx265 --enable-libxvid --enable-libaom --enable-libopenjpeg --enable-libvpx --enable-mediafoundation --enable-libass --enable-libfreetype --enable-libfribidi --enable-libvidstab --enable-libvmaf --enable-libzimg --enable-amf --enable-cuda-llvm --enable-cuvid --enable-ffnvcodec --enable-nvdec --enable-nvenc --enable-d3d11va --enable-dxva2 --enable-libvpl --enable-libgme --enable-libopenmpt --enable-libopencore-amrwb --enable-libmp3lame --enable-libtheora --enable-libvo-amrwbenc --enable-libgsm --enable-libopencore-amrnb --enable-libopus --enable-libspeex --enable-libvorbis --enable-librubberband\n",
      "  libavutil      58.  6.100 / 58.  6.100\n",
      "  libavcodec     60. 10.100 / 60. 10.100\n",
      "  libavformat    60.  5.100 / 60.  5.100\n",
      "  libavdevice    60.  2.100 / 60.  2.100\n",
      "  libavfilter     9.  7.100 /  9.  7.100\n",
      "  libswscale      7.  2.100 /  7.  2.100\n",
      "  libswresample   4. 11.100 /  4. 11.100\n",
      "  libpostproc    57.  2.100 / 57.  2.100\n",
      "Input #0, mov,mp4,m4a,3gp,3g2,mj2, from 'data/visualisations/videos/single_revisit_comparison.mp4':\n",
      "  Metadata:\n",
      "    major_brand     : isom\n",
      "    minor_version   : 512\n",
      "    compatible_brands: isomiso2mp41\n",
      "    encoder         : Lavf58.76.100\n",
      "  Duration: 00:00:16.73, start: 0.000000, bitrate: 4306 kb/s\n",
      "  Stream #0:0[0x1](und): Video: mpeg4 (Simple Profile) (mp4v / 0x7634706D), yuv420p, 800x800 [SAR 1:1 DAR 1:1], 4303 kb/s, 60 fps, 60 tbr, 15360 tbn (default)\n",
      "    Metadata:\n",
      "      handler_name    : VideoHandler\n",
      "      vendor_id       : [0][0][0][0]\n",
      "Input #1, mov,mp4,m4a,3gp,3g2,mj2, from 'data/visualisations/videos/merged_vertical_comparison.mp4':\n",
      "  Metadata:\n",
      "    major_brand     : isom\n",
      "    minor_version   : 512\n",
      "    compatible_brands: isomiso2mp41\n",
      "    encoder         : Lavf58.76.100\n",
      "  Duration: 00:00:19.92, start: 0.000000, bitrate: 3552 kb/s\n",
      "  Stream #1:0[0x1](und): Video: mpeg4 (Simple Profile) (mp4v / 0x7634706D), yuv420p, 800x800 [SAR 1:1 DAR 1:1], 3550 kb/s, 60 fps, 60 tbr, 15360 tbn (default)\n",
      "    Metadata:\n",
      "      handler_name    : VideoHandler\n",
      "      vendor_id       : [0][0][0][0]\n",
      "Input #2, mov,mp4,m4a,3gp,3g2,mj2, from 'data/visualisations/videos/merged_horizontal_comparison.mp4':\n",
      "  Metadata:\n",
      "    major_brand     : isom\n",
      "    minor_version   : 512\n",
      "    compatible_brands: isomiso2mp41\n",
      "    encoder         : Lavf58.76.100\n",
      "  Duration: 00:00:19.92, start: 0.000000, bitrate: 3647 kb/s\n",
      "  Stream #2:0[0x1](und): Video: mpeg4 (Simple Profile) (mp4v / 0x7634706D), yuv420p, 800x800 [SAR 1:1 DAR 1:1], 3645 kb/s, 60 fps, 60 tbr, 15360 tbn (default)\n",
      "    Metadata:\n",
      "      handler_name    : VideoHandler\n",
      "      vendor_id       : [0][0][0][0]\n",
      "Stream mapping:\n",
      "  Stream #0:0 (mpeg4) -> scale2ref\n",
      "  Stream #1:0 (mpeg4) -> scale2ref\n",
      "  Stream #2:0 (mpeg4) -> scale2ref\n",
      "  scale:default -> Stream #0:0 (libx264)\n",
      "Press [q] to stop, [?] for help\n",
      "[libx264 @ 000001fa54ca08c0] using SAR=1/1\n",
      "[libx264 @ 000001fa54ca08c0] using cpu capabilities: MMX2 SSE2Fast SSSE3 SSE4.2 AVX FMA3 BMI2 AVX2\n",
      "[libx264 @ 000001fa54ca08c0] profile High, level 4.2, 4:2:0, 8-bit\n",
      "[libx264 @ 000001fa54ca08c0] 264 - core 164 r3107 a8b68eb - H.264/MPEG-4 AVC codec - Copyleft 2003-2023 - http://www.videolan.org/x264.html - options: cabac=1 ref=3 deblock=1:0:0 analyse=0x3:0x113 me=hex subme=7 psy=1 psy_rd=1.00:0.00 mixed_ref=1 me_range=16 chroma_me=1 trellis=1 8x8dct=1 cqm=0 deadzone=21,11 fast_pskip=1 chroma_qp_offset=-2 threads=25 lookahead_threads=4 sliced_threads=0 nr=0 decimate=1 interlaced=0 bluray_compat=0 constrained_intra=0 bframes=3 b_pyramid=2 b_adapt=1 b_bias=0 direct=1 weightb=1 open_gop=0 weightp=2 keyint=250 keyint_min=25 scenecut=40 intra_refresh=0 rc_lookahead=40 rc=crf mbtree=1 crf=23.0 qcomp=0.60 qpmin=0 qpmax=69 qpstep=4 ip_ratio=1.40 aq=1:1.00\n",
      "Output #0, mp4, to 'data/visualisations/videos/default_scenarios.mp4':\n",
      "  Metadata:\n",
      "    major_brand     : isom\n",
      "    minor_version   : 512\n",
      "    compatible_brands: isomiso2mp41\n",
      "    encoder         : Lavf60.5.100\n",
      "  Stream #0:0: Video: h264 (avc1 / 0x31637661), yuv420p(progressive), 2400x800 [SAR 1:1 DAR 3:1], q=2-31, 60 fps, 15360 tbn\n",
      "    Metadata:\n",
      "      encoder         : Lavc60.10.100 libx264\n",
      "    Side data:\n",
      "      cpb: bitrate max/min/avg: 0/0/0 buffer size: 0 vbv_delay: N/A\n",
      "frame=    0 fps=0.0 q=0.0 size=       0kB time=-577014:32:22.77 bitrate=  -0.0kbits/s speed=N/A    \n",
      "frame=   59 fps=0.0 q=31.0 size=     256kB time=00:00:00.93 bitrate=2247.4kbits/s speed=1.46x    \n",
      "frame=  243 fps=213 q=31.0 size=    1024kB time=00:00:04.01 bitrate=2088.5kbits/s speed=3.52x    \n",
      "frame=  446 fps=272 q=31.0 size=    1536kB time=00:00:07.38 bitrate=1704.3kbits/s speed= 4.5x    \n",
      "frame=  644 fps=301 q=31.0 size=    2304kB time=00:00:10.68 bitrate=1766.7kbits/s speed=4.99x    \n",
      "frame=  841 fps=318 q=31.0 size=    2560kB time=00:00:13.96 bitrate=1501.6kbits/s speed=5.29x    \n",
      "frame= 1053 fps=335 q=31.0 size=    3328kB time=00:00:17.50 bitrate=1557.9kbits/s speed=5.57x    \n",
      "[out#0/mp4 @ 000001fa54c962c0] video:3715kB audio:0kB subtitle:0kB other streams:0kB global headers:0kB muxing overhead: 0.382863%\n",
      "frame= 1195 fps=349 q=-1.0 Lsize=    3729kB time=00:00:19.86 bitrate=1537.7kbits/s speed=5.81x    \n",
      "[libx264 @ 000001fa54ca08c0] frame I:6     Avg QP:19.29  size:220827\n",
      "[libx264 @ 000001fa54ca08c0] frame P:345   Avg QP:23.73  size:  5638\n",
      "[libx264 @ 000001fa54ca08c0] frame B:844   Avg QP:32.22  size:   632\n",
      "[libx264 @ 000001fa54ca08c0] consecutive B-frames:  1.8%  4.9% 22.1% 71.3%\n",
      "[libx264 @ 000001fa54ca08c0] mb I  I16..4:  1.8% 93.8%  4.4%\n",
      "[libx264 @ 000001fa54ca08c0] mb P  I16..4:  0.1%  1.9%  0.2%  P16..4:  2.6%  0.7%  0.5%  0.0%  0.0%    skip:94.0%\n",
      "[libx264 @ 000001fa54ca08c0] mb B  I16..4:  0.0%  0.0%  0.0%  B16..8:  2.3%  0.7%  0.1%  direct: 0.0%  skip:96.8%  L0:48.8% L1:48.6% BI: 2.6%\n",
      "[libx264 @ 000001fa54ca08c0] 8x8 transform intra:89.0% inter:66.8%\n",
      "[libx264 @ 000001fa54ca08c0] coded y,uvDC,uvAC intra: 91.9% 86.0% 44.5% inter: 0.7% 0.8% 0.1%\n",
      "[libx264 @ 000001fa54ca08c0] i16 v,h,dc,p: 46% 30% 13% 10%\n",
      "[libx264 @ 000001fa54ca08c0] i8 v,h,dc,ddl,ddr,vr,hd,vl,hu: 18% 19% 25%  5%  5%  7%  4%  6% 12%\n",
      "[libx264 @ 000001fa54ca08c0] i4 v,h,dc,ddl,ddr,vr,hd,vl,hu: 32% 23% 11%  5%  5%  7%  4%  5%  7%\n",
      "[libx264 @ 000001fa54ca08c0] i8c dc,h,v,p: 39% 29% 26%  6%\n",
      "[libx264 @ 000001fa54ca08c0] Weighted P-Frames: Y:0.0% UV:0.0%\n",
      "[libx264 @ 000001fa54ca08c0] ref P L0: 76.3%  8.3% 10.9%  4.5%\n",
      "[libx264 @ 000001fa54ca08c0] ref B L0: 78.8% 17.7%  3.5%\n",
      "[libx264 @ 000001fa54ca08c0] ref B L1: 91.6%  8.4%\n",
      "[libx264 @ 000001fa54ca08c0] kb/s:1527.68\n"
     ]
    }
   ],
   "source": [
    "%%capture\n",
    "# Comment out %%capture to see the error message if the video is not playing\n",
    "# Don't forget to install FFMpeg (link above).\n",
    "!ffmpeg -i data/visualisations/videos/single_revisit_comparison.mp4 -i data/visualisations/videos/merged_vertical_comparison.mp4 -i data/visualisations/videos/merged_horizontal_comparison.mp4 -filter_complex \"[1:v][0:v]scale2ref=oh*mdar:ih[1v][0v];[2:v][0v]scale2ref=oh*mdar:ih[2v][0v];[0v][1v][2v]hstack=3,scale='2*trunc(iw/2)':'2*trunc(ih/2)'\" data/visualisations/videos/default_scenarios.mp4 -y"
   ]
  },
  {
   "cell_type": "markdown",
   "metadata": {},
   "source": [
    "- Left: A single revisit comparison video (between the first revisit and the super resolved image).\n",
    "- Middle: A comparison between vertically merged low resolution images and the super resolved image.\n",
    "- Right: A comparison between horizontally merged low resolution images and the super resolved image."
   ]
  },
  {
   "cell_type": "code",
   "execution_count": 5,
   "metadata": {},
   "outputs": [
    {
     "data": {
      "text/html": [
       "<video src=\"data/visualisations/videos/default_scenarios.mp4\" controls  width=\"1200\"  height=\"400\">\n",
       "      Your browser does not support the <code>video</code> element.\n",
       "    </video>"
      ],
      "text/plain": [
       "<IPython.core.display.Video object>"
      ]
     },
     "execution_count": 5,
     "metadata": {},
     "output_type": "execute_result"
    }
   ],
   "source": [
    "from IPython.display import Video as IPythonVideo\n",
    "IPythonVideo(url='data/visualisations/videos/default_scenarios.mp4', width=1200, height=400)"
   ]
  },
  {
   "cell_type": "code",
   "execution_count": 6,
   "metadata": {},
   "outputs": [],
   "source": [
    "%%capture\n",
    "# Comment out %%capture to see the error message if the video is not playing\n",
    "!ffmpeg -i data/visualisations/videos/test_scenario.mp4 -vcodec libx264 -acodec aac data/visualisations/videos/test_scenario_preview.mp4 -y"
   ]
  },
  {
   "cell_type": "code",
   "execution_count": 7,
   "metadata": {},
   "outputs": [
    {
     "data": {
      "text/html": [
       "<video src=\"data/visualisations/videos/test_scenario_preview.mp4\" controls  width=\"400\"  height=\"400\">\n",
       "      Your browser does not support the <code>video</code> element.\n",
       "    </video>"
      ],
      "text/plain": [
       "<IPython.core.display.Video object>"
      ]
     },
     "execution_count": 7,
     "metadata": {},
     "output_type": "execute_result"
    }
   ],
   "source": [
    "IPythonVideo('data/visualisations/videos/test_scenario_preview.mp4', width=400, height=400)"
   ]
  },
  {
   "cell_type": "markdown",
   "metadata": {},
   "source": [
    "### Default scenarios with zooming in\n",
    "We can also zoom in to a certain part of the original images to be able to see the difference even closer."
   ]
  },
  {
   "cell_type": "code",
   "execution_count": 8,
   "metadata": {},
   "outputs": [
    {
     "data": {
      "application/vnd.jupyter.widget-view+json": {
       "model_id": "ada99686fd834b34b130088e75699774",
       "version_major": 2,
       "version_minor": 0
      },
      "text/plain": [
       "Converting frames to OpenCV:   0%|          | 0/1004 [00:00<?, ?it/s]"
      ]
     },
     "metadata": {},
     "output_type": "display_data"
    },
    {
     "data": {
      "application/vnd.jupyter.widget-view+json": {
       "model_id": "35125f970ee54aa6bd28e7adeec03008",
       "version_major": 2,
       "version_minor": 0
      },
      "text/plain": [
       "Writing frames to data\\visualisations\\videos\\single_revisit_comparison.mp4:   0%|          | 0/1004 [00:00<?, …"
      ]
     },
     "metadata": {},
     "output_type": "display_data"
    },
    {
     "data": {
      "application/vnd.jupyter.widget-view+json": {
       "model_id": "f1179247dfcb4790ae64b032b35983b3",
       "version_major": 2,
       "version_minor": 0
      },
      "text/plain": [
       "Converting frames to OpenCV:   0%|          | 0/1195 [00:00<?, ?it/s]"
      ]
     },
     "metadata": {},
     "output_type": "display_data"
    },
    {
     "data": {
      "application/vnd.jupyter.widget-view+json": {
       "model_id": "6b51118a29d846f987fe1066e831f24b",
       "version_major": 2,
       "version_minor": 0
      },
      "text/plain": [
       "Writing frames to data\\visualisations\\videos\\merged_vertical_comparison.mp4:   0%|          | 0/1195 [00:00<?,…"
      ]
     },
     "metadata": {},
     "output_type": "display_data"
    },
    {
     "data": {
      "application/vnd.jupyter.widget-view+json": {
       "model_id": "651baaedc32b4f88b82b365ed8715b94",
       "version_major": 2,
       "version_minor": 0
      },
      "text/plain": [
       "Converting frames to OpenCV:   0%|          | 0/1195 [00:00<?, ?it/s]"
      ]
     },
     "metadata": {},
     "output_type": "display_data"
    },
    {
     "data": {
      "application/vnd.jupyter.widget-view+json": {
       "model_id": "95f499694a4f45faa4a7514b7fe9f6df",
       "version_major": 2,
       "version_minor": 0
      },
      "text/plain": [
       "Writing frames to data\\visualisations\\videos\\merged_horizontal_comparison.mp4:   0%|          | 0/1195 [00:00<…"
      ]
     },
     "metadata": {},
     "output_type": "display_data"
    },
    {
     "data": {
      "application/vnd.jupyter.widget-view+json": {
       "model_id": "e97b082f872946f3b696fb26595ac71f",
       "version_major": 2,
       "version_minor": 0
      },
      "text/plain": [
       "Converting frames to OpenCV:   0%|          | 0/1748 [00:00<?, ?it/s]"
      ]
     },
     "metadata": {},
     "output_type": "display_data"
    },
    {
     "data": {
      "application/vnd.jupyter.widget-view+json": {
       "model_id": "cc3c9a89058c4d158bc2581a008f0f10",
       "version_major": 2,
       "version_minor": 0
      },
      "text/plain": [
       "Writing frames to data\\visualisations\\videos\\test_scenario_zoom.mp4:   0%|          | 0/1748 [00:00<?, ?it/s]"
      ]
     },
     "metadata": {},
     "output_type": "display_data"
    }
   ],
   "source": [
    "video = Video(root_path, sr_prefix='SR', lr_prefix='L', watermark_logo_path='video_demonstrations/whyhow logo.png')\n",
    "video.generate_zoom_into_group(600, 600)\n",
    "frames = []\n",
    "frames += Scenario.generate_zoom_into_animation(video)\n",
    "video.zoom_into()\n",
    "frames += Scenario.generate_default_scenarios(video)\n",
    "video.zoom_out()\n",
    "frames += Scenario.generate_zoom_out_animation(video)\n",
    "video.frames = frames\n",
    "video.save_frames_to_video(video_path='test_scenario_zoom.mp4', fps=60)\n"
   ]
  },
  {
   "cell_type": "code",
   "execution_count": 9,
   "metadata": {},
   "outputs": [],
   "source": [
    "%%capture\n",
    "# Comment out %%capture to see the error message if the video is not playing\n",
    "!ffmpeg -i data/visualisations/videos/single_revisit_comparison.mp4 -i data/visualisations/videos/merged_vertical_comparison.mp4 -i data/visualisations/videos/merged_horizontal_comparison.mp4 -filter_complex \"[1:v][0:v]scale2ref=oh*mdar:ih[1v][0v];[2:v][0v]scale2ref=oh*mdar:ih[2v][0v];[0v][1v][2v]hstack=3,scale='2*trunc(iw/2)':'2*trunc(ih/2)'\" data/visualisations/videos/default_scenarios_zoom.mp4 -y"
   ]
  },
  {
   "cell_type": "code",
   "execution_count": 10,
   "metadata": {},
   "outputs": [
    {
     "data": {
      "text/html": [
       "<video src=\"data/visualisations/videos/default_scenarios_zoom.mp4\" controls  width=\"1200\"  height=\"400\">\n",
       "      Your browser does not support the <code>video</code> element.\n",
       "    </video>"
      ],
      "text/plain": [
       "<IPython.core.display.Video object>"
      ]
     },
     "execution_count": 10,
     "metadata": {},
     "output_type": "execute_result"
    }
   ],
   "source": [
    "IPythonVideo('data/visualisations/videos/default_scenarios_zoom.mp4', width=1200, height=400)"
   ]
  },
  {
   "cell_type": "code",
   "execution_count": 11,
   "metadata": {},
   "outputs": [],
   "source": [
    "%%capture\n",
    "# Comment out %%capture to see the error message if the video is not playing\n",
    "!ffmpeg -i data/visualisations/videos/test_scenario_zoom.mp4 -vcodec libx264 -acodec aac data/visualisations/videos/test_scenario_zoom_preview.mp4 -y"
   ]
  },
  {
   "cell_type": "code",
   "execution_count": 12,
   "metadata": {},
   "outputs": [
    {
     "data": {
      "text/html": [
       "<video src=\"data/visualisations/videos/test_scenario_zoom_preview.mp4\" controls  width=\"400\"  height=\"400\">\n",
       "      Your browser does not support the <code>video</code> element.\n",
       "    </video>"
      ],
      "text/plain": [
       "<IPython.core.display.Video object>"
      ]
     },
     "execution_count": 12,
     "metadata": {},
     "output_type": "execute_result"
    }
   ],
   "source": [
    "IPythonVideo('data/visualisations/videos/test_scenario_zoom_preview.mp4', width=400, height=400)"
   ]
  },
  {
   "cell_type": "code",
   "execution_count": null,
   "metadata": {},
   "outputs": [],
   "source": []
  }
 ],
 "metadata": {
  "kernelspec": {
   "display_name": "Python 3.10.5 ('worldstrat')",
   "language": "python",
   "name": "python3"
  },
  "language_info": {
   "codemirror_mode": {
    "name": "ipython",
    "version": 3
   },
   "file_extension": ".py",
   "mimetype": "text/x-python",
   "name": "python",
   "nbconvert_exporter": "python",
   "pygments_lexer": "ipython3",
   "version": "3.8.16"
  },
  "vscode": {
   "interpreter": {
    "hash": "4151d50128295e6419a637553904cae4fc18ed6dc9ed0de784cf617a79695b0d"
   }
  }
 },
 "nbformat": 4,
 "nbformat_minor": 4
}
